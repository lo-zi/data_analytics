{
 "cells": [
  {
   "cell_type": "markdown",
   "id": "3272230e",
   "metadata": {},
   "source": [
    "# Importing and preparing supermarkets data"
   ]
  },
  {
   "cell_type": "markdown",
   "id": "abe67fc9",
   "metadata": {},
   "source": [
    "## Libraries and settings"
   ]
  },
  {
   "cell_type": "code",
   "execution_count": 1,
   "id": "cbff58c8",
   "metadata": {},
   "outputs": [
    {
     "name": "stdout",
     "output_type": "stream",
     "text": [
      "Current working directory: /workspaces/data_analytics/Week_02\n",
      "supermarkets.json\n"
     ]
    }
   ],
   "source": [
    "# Libraries\n",
    "import os\n",
    "import fnmatch\n",
    "import pandas as pd\n",
    "\n",
    "# Ignore warnings\n",
    "import warnings\n",
    "warnings.filterwarnings(\"ignore\")\n",
    "\n",
    "# Get current working directory\n",
    "print('Current working directory:', os.getcwd())\n",
    "\n",
    "# Show .json files in the current working directory\n",
    "flist = fnmatch.filter(os.listdir('.'), '*.json')\n",
    "for i in flist:\n",
    "    print(i)"
   ]
  },
  {
   "cell_type": "markdown",
   "id": "2a7bff4a",
   "metadata": {},
   "source": [
    "## Importing data"
   ]
  },
  {
   "cell_type": "code",
   "execution_count": 2,
   "id": "aa8f37dd",
   "metadata": {
    "scrolled": true
   },
   "outputs": [
    {
     "data": {
      "text/html": [
       "<div>\n",
       "<style scoped>\n",
       "    .dataframe tbody tr th:only-of-type {\n",
       "        vertical-align: middle;\n",
       "    }\n",
       "\n",
       "    .dataframe tbody tr th {\n",
       "        vertical-align: top;\n",
       "    }\n",
       "\n",
       "    .dataframe thead th {\n",
       "        text-align: right;\n",
       "    }\n",
       "</style>\n",
       "<table border=\"1\" class=\"dataframe\">\n",
       "  <thead>\n",
       "    <tr style=\"text-align: right;\">\n",
       "      <th></th>\n",
       "      <th>type</th>\n",
       "      <th>id</th>\n",
       "      <th>lat</th>\n",
       "      <th>lon</th>\n",
       "      <th>tags</th>\n",
       "    </tr>\n",
       "  </thead>\n",
       "  <tbody>\n",
       "    <tr>\n",
       "      <th>0</th>\n",
       "      <td>node</td>\n",
       "      <td>33126515</td>\n",
       "      <td>47.155616</td>\n",
       "      <td>9.037915</td>\n",
       "      <td>{'brand': 'Spar', 'brand:wikidata': 'Q610492',...</td>\n",
       "    </tr>\n",
       "    <tr>\n",
       "      <th>1</th>\n",
       "      <td>node</td>\n",
       "      <td>36726161</td>\n",
       "      <td>47.226191</td>\n",
       "      <td>8.980329</td>\n",
       "      <td>{'addr:city': 'Uznach', 'addr:housenumber': '2...</td>\n",
       "    </tr>\n",
       "    <tr>\n",
       "      <th>2</th>\n",
       "      <td>node</td>\n",
       "      <td>39768209</td>\n",
       "      <td>47.225069</td>\n",
       "      <td>8.969981</td>\n",
       "      <td>{'addr:city': 'Uznach', 'addr:postcode': '8730...</td>\n",
       "    </tr>\n",
       "    <tr>\n",
       "      <th>3</th>\n",
       "      <td>node</td>\n",
       "      <td>39947904</td>\n",
       "      <td>47.376732</td>\n",
       "      <td>8.542161</td>\n",
       "      <td>{'addr:city': 'Zürich', 'addr:country': 'CH', ...</td>\n",
       "    </tr>\n",
       "    <tr>\n",
       "      <th>4</th>\n",
       "      <td>node</td>\n",
       "      <td>48932835</td>\n",
       "      <td>47.375020</td>\n",
       "      <td>8.522895</td>\n",
       "      <td>{'addr:city': 'Zürich', 'addr:housenumber': '7...</td>\n",
       "    </tr>\n",
       "  </tbody>\n",
       "</table>\n",
       "</div>"
      ],
      "text/plain": [
       "   type        id        lat       lon  \\\n",
       "0  node  33126515  47.155616  9.037915   \n",
       "1  node  36726161  47.226191  8.980329   \n",
       "2  node  39768209  47.225069  8.969981   \n",
       "3  node  39947904  47.376732  8.542161   \n",
       "4  node  48932835  47.375020  8.522895   \n",
       "\n",
       "                                                tags  \n",
       "0  {'brand': 'Spar', 'brand:wikidata': 'Q610492',...  \n",
       "1  {'addr:city': 'Uznach', 'addr:housenumber': '2...  \n",
       "2  {'addr:city': 'Uznach', 'addr:postcode': '8730...  \n",
       "3  {'addr:city': 'Zürich', 'addr:country': 'CH', ...  \n",
       "4  {'addr:city': 'Zürich', 'addr:housenumber': '7...  "
      ]
     },
     "execution_count": 2,
     "metadata": {},
     "output_type": "execute_result"
    }
   ],
   "source": [
    "# Read the data to a pandas data frame\n",
    "df1 = pd.read_json('supermarkets.json', encoding='utf-8')\n",
    "df1.head(5)"
   ]
  },
  {
   "cell_type": "markdown",
   "id": "b95e9f0e",
   "metadata": {},
   "source": [
    "## Count number of rows and columns in the data frame"
   ]
  },
  {
   "cell_type": "code",
   "execution_count": 3,
   "id": "ec7391ad",
   "metadata": {},
   "outputs": [
    {
     "name": "stdout",
     "output_type": "stream",
     "text": [
      "Dimension: (3392, 5)\n",
      "Number of rows: 3392\n",
      "Number of columns: 5\n"
     ]
    }
   ],
   "source": [
    "# Dimension (rows, columns)\n",
    "print('Dimension:', df1.shape)\n",
    "\n",
    "# Number of rows\n",
    "print('Number of rows:', df1.shape[0])\n",
    "\n",
    "# Number of columns\n",
    "print('Number of columns:', df1.shape[1])"
   ]
  },
  {
   "cell_type": "markdown",
   "id": "e87e78e7",
   "metadata": {},
   "source": [
    "## Column 'tags' is a pandas Series with dictionaries -> change to data frame"
   ]
  },
  {
   "cell_type": "code",
   "execution_count": 4,
   "id": "b4aacf01",
   "metadata": {},
   "outputs": [
    {
     "name": "stdout",
     "output_type": "stream",
     "text": [
      "<class 'pandas.core.series.Series'>\n",
      "<class 'dict'>\n",
      "dict_keys(['brand', 'brand:wikidata', 'brand:wikipedia', 'name', 'opening_hours', 'shop'])\n"
     ]
    },
    {
     "data": {
      "text/html": [
       "<div>\n",
       "<style scoped>\n",
       "    .dataframe tbody tr th:only-of-type {\n",
       "        vertical-align: middle;\n",
       "    }\n",
       "\n",
       "    .dataframe tbody tr th {\n",
       "        vertical-align: top;\n",
       "    }\n",
       "\n",
       "    .dataframe thead th {\n",
       "        text-align: right;\n",
       "    }\n",
       "</style>\n",
       "<table border=\"1\" class=\"dataframe\">\n",
       "  <thead>\n",
       "    <tr style=\"text-align: right;\">\n",
       "      <th></th>\n",
       "      <th>brand</th>\n",
       "      <th>shop</th>\n",
       "      <th>city</th>\n",
       "      <th>street</th>\n",
       "      <th>housenumber</th>\n",
       "      <th>postcode</th>\n",
       "    </tr>\n",
       "  </thead>\n",
       "  <tbody>\n",
       "    <tr>\n",
       "      <th>0</th>\n",
       "      <td>Spar</td>\n",
       "      <td>supermarket</td>\n",
       "      <td>NaN</td>\n",
       "      <td>NaN</td>\n",
       "      <td>NaN</td>\n",
       "      <td>NaN</td>\n",
       "    </tr>\n",
       "    <tr>\n",
       "      <th>1</th>\n",
       "      <td>Migros</td>\n",
       "      <td>supermarket</td>\n",
       "      <td>Uznach</td>\n",
       "      <td>Zürcherstrasse</td>\n",
       "      <td>25</td>\n",
       "      <td>8730</td>\n",
       "    </tr>\n",
       "    <tr>\n",
       "      <th>2</th>\n",
       "      <td>Coop</td>\n",
       "      <td>supermarket</td>\n",
       "      <td>Uznach</td>\n",
       "      <td>NaN</td>\n",
       "      <td>NaN</td>\n",
       "      <td>8730</td>\n",
       "    </tr>\n",
       "    <tr>\n",
       "      <th>3</th>\n",
       "      <td>Coop</td>\n",
       "      <td>supermarket</td>\n",
       "      <td>Zürich</td>\n",
       "      <td>Bahnhofbrücke</td>\n",
       "      <td>1</td>\n",
       "      <td>8001</td>\n",
       "    </tr>\n",
       "    <tr>\n",
       "      <th>4</th>\n",
       "      <td>Migros</td>\n",
       "      <td>supermarket</td>\n",
       "      <td>Zürich</td>\n",
       "      <td>Wengistrasse</td>\n",
       "      <td>7</td>\n",
       "      <td>8004</td>\n",
       "    </tr>\n",
       "  </tbody>\n",
       "</table>\n",
       "</div>"
      ],
      "text/plain": [
       "    brand         shop    city          street housenumber postcode\n",
       "0    Spar  supermarket     NaN             NaN         NaN      NaN\n",
       "1  Migros  supermarket  Uznach  Zürcherstrasse          25     8730\n",
       "2    Coop  supermarket  Uznach             NaN         NaN     8730\n",
       "3    Coop  supermarket  Zürich   Bahnhofbrücke           1     8001\n",
       "4  Migros  supermarket  Zürich    Wengistrasse           7     8004"
      ]
     },
     "execution_count": 4,
     "metadata": {},
     "output_type": "execute_result"
    }
   ],
   "source": [
    "# Type of the first item of column tags\n",
    "print(type(df1.tags))\n",
    "print(type(df1.tags[0]))\n",
    "\n",
    "# Content of the first item of column tags\n",
    "print(df1.tags[0].keys())\n",
    "\n",
    "# Change to data frame\n",
    "df2 = pd.DataFrame.from_records(df1.tags)\n",
    "df2 = df2[['brand', 'shop', 'addr:city', 'addr:street', 'addr:housenumber', 'addr:postcode']]\n",
    "\n",
    "# Rename selected columns\n",
    "df2 = df2.rename(columns={'addr:city': 'city',\n",
    "                          'addr:street':'street',\n",
    "                          'addr:housenumber': 'housenumber',\n",
    "                          'addr:postcode': 'postcode'})\n",
    "\n",
    "# Show first records of data frame\n",
    "df2.head()"
   ]
  },
  {
   "cell_type": "markdown",
   "id": "e801ae61",
   "metadata": {},
   "source": [
    "## Merge df1 and df2"
   ]
  },
  {
   "cell_type": "code",
   "execution_count": 5,
   "id": "0a78ba35",
   "metadata": {},
   "outputs": [
    {
     "data": {
      "text/html": [
       "<div>\n",
       "<style scoped>\n",
       "    .dataframe tbody tr th:only-of-type {\n",
       "        vertical-align: middle;\n",
       "    }\n",
       "\n",
       "    .dataframe tbody tr th {\n",
       "        vertical-align: top;\n",
       "    }\n",
       "\n",
       "    .dataframe thead th {\n",
       "        text-align: right;\n",
       "    }\n",
       "</style>\n",
       "<table border=\"1\" class=\"dataframe\">\n",
       "  <thead>\n",
       "    <tr style=\"text-align: right;\">\n",
       "      <th></th>\n",
       "      <th>type</th>\n",
       "      <th>id</th>\n",
       "      <th>lat</th>\n",
       "      <th>lon</th>\n",
       "      <th>brand</th>\n",
       "      <th>shop</th>\n",
       "      <th>city</th>\n",
       "      <th>street</th>\n",
       "      <th>housenumber</th>\n",
       "      <th>postcode</th>\n",
       "    </tr>\n",
       "  </thead>\n",
       "  <tbody>\n",
       "    <tr>\n",
       "      <th>0</th>\n",
       "      <td>node</td>\n",
       "      <td>33126515</td>\n",
       "      <td>47.155616</td>\n",
       "      <td>9.037915</td>\n",
       "      <td>Spar</td>\n",
       "      <td>supermarket</td>\n",
       "      <td>NaN</td>\n",
       "      <td>NaN</td>\n",
       "      <td>NaN</td>\n",
       "      <td>NaN</td>\n",
       "    </tr>\n",
       "    <tr>\n",
       "      <th>1</th>\n",
       "      <td>node</td>\n",
       "      <td>36726161</td>\n",
       "      <td>47.226191</td>\n",
       "      <td>8.980329</td>\n",
       "      <td>Migros</td>\n",
       "      <td>supermarket</td>\n",
       "      <td>Uznach</td>\n",
       "      <td>Zürcherstrasse</td>\n",
       "      <td>25</td>\n",
       "      <td>8730</td>\n",
       "    </tr>\n",
       "    <tr>\n",
       "      <th>2</th>\n",
       "      <td>node</td>\n",
       "      <td>39768209</td>\n",
       "      <td>47.225069</td>\n",
       "      <td>8.969981</td>\n",
       "      <td>Coop</td>\n",
       "      <td>supermarket</td>\n",
       "      <td>Uznach</td>\n",
       "      <td>NaN</td>\n",
       "      <td>NaN</td>\n",
       "      <td>8730</td>\n",
       "    </tr>\n",
       "    <tr>\n",
       "      <th>3</th>\n",
       "      <td>node</td>\n",
       "      <td>39947904</td>\n",
       "      <td>47.376732</td>\n",
       "      <td>8.542161</td>\n",
       "      <td>Coop</td>\n",
       "      <td>supermarket</td>\n",
       "      <td>Zürich</td>\n",
       "      <td>Bahnhofbrücke</td>\n",
       "      <td>1</td>\n",
       "      <td>8001</td>\n",
       "    </tr>\n",
       "    <tr>\n",
       "      <th>4</th>\n",
       "      <td>node</td>\n",
       "      <td>48932835</td>\n",
       "      <td>47.375020</td>\n",
       "      <td>8.522895</td>\n",
       "      <td>Migros</td>\n",
       "      <td>supermarket</td>\n",
       "      <td>Zürich</td>\n",
       "      <td>Wengistrasse</td>\n",
       "      <td>7</td>\n",
       "      <td>8004</td>\n",
       "    </tr>\n",
       "  </tbody>\n",
       "</table>\n",
       "</div>"
      ],
      "text/plain": [
       "   type        id        lat       lon   brand         shop    city  \\\n",
       "0  node  33126515  47.155616  9.037915    Spar  supermarket     NaN   \n",
       "1  node  36726161  47.226191  8.980329  Migros  supermarket  Uznach   \n",
       "2  node  39768209  47.225069  8.969981    Coop  supermarket  Uznach   \n",
       "3  node  39947904  47.376732  8.542161    Coop  supermarket  Zürich   \n",
       "4  node  48932835  47.375020  8.522895  Migros  supermarket  Zürich   \n",
       "\n",
       "           street housenumber postcode  \n",
       "0             NaN         NaN      NaN  \n",
       "1  Zürcherstrasse          25     8730  \n",
       "2             NaN         NaN     8730  \n",
       "3   Bahnhofbrücke           1     8001  \n",
       "4    Wengistrasse           7     8004  "
      ]
     },
     "execution_count": 5,
     "metadata": {},
     "output_type": "execute_result"
    }
   ],
   "source": [
    "# Merge df and df2\n",
    "# Merge df1 and df2 on their indices\n",
    "df = pd.merge(df1[['type', 'id', 'lat', 'lon']], \n",
    "              df2[['brand', 'shop', 'city', 'street', 'housenumber', 'postcode']],\n",
    "              left_index=True, \n",
    "              right_index=True)\n",
    "\n",
    "# Display the first 5 rows of the merged dataframe\n",
    "df.head(5)"
   ]
  },
  {
   "cell_type": "markdown",
   "id": "621b8ae9",
   "metadata": {},
   "source": [
    "## Count and identify the number of missing values (if any)"
   ]
  },
  {
   "cell_type": "code",
   "execution_count": 6,
   "id": "67773d99",
   "metadata": {},
   "outputs": [
    {
     "name": "stdout",
     "output_type": "stream",
     "text": [
      "type              0\n",
      "id                0\n",
      "lat               0\n",
      "lon               0\n",
      "brand          1065\n",
      "shop              0\n",
      "city           1777\n",
      "street         1608\n",
      "housenumber    1680\n",
      "postcode       1709\n",
      "dtype: int64\n"
     ]
    },
    {
     "data": {
      "text/html": [
       "<div>\n",
       "<style scoped>\n",
       "    .dataframe tbody tr th:only-of-type {\n",
       "        vertical-align: middle;\n",
       "    }\n",
       "\n",
       "    .dataframe tbody tr th {\n",
       "        vertical-align: top;\n",
       "    }\n",
       "\n",
       "    .dataframe thead th {\n",
       "        text-align: right;\n",
       "    }\n",
       "</style>\n",
       "<table border=\"1\" class=\"dataframe\">\n",
       "  <thead>\n",
       "    <tr style=\"text-align: right;\">\n",
       "      <th></th>\n",
       "      <th>type</th>\n",
       "      <th>id</th>\n",
       "      <th>lat</th>\n",
       "      <th>lon</th>\n",
       "      <th>brand</th>\n",
       "      <th>shop</th>\n",
       "      <th>city</th>\n",
       "      <th>street</th>\n",
       "      <th>housenumber</th>\n",
       "      <th>postcode</th>\n",
       "    </tr>\n",
       "  </thead>\n",
       "  <tbody>\n",
       "    <tr>\n",
       "      <th>0</th>\n",
       "      <td>node</td>\n",
       "      <td>33126515</td>\n",
       "      <td>47.155616</td>\n",
       "      <td>9.037915</td>\n",
       "      <td>Spar</td>\n",
       "      <td>supermarket</td>\n",
       "      <td>NaN</td>\n",
       "      <td>NaN</td>\n",
       "      <td>NaN</td>\n",
       "      <td>NaN</td>\n",
       "    </tr>\n",
       "    <tr>\n",
       "      <th>5</th>\n",
       "      <td>node</td>\n",
       "      <td>60271452</td>\n",
       "      <td>47.406671</td>\n",
       "      <td>9.305450</td>\n",
       "      <td>NaN</td>\n",
       "      <td>supermarket</td>\n",
       "      <td>NaN</td>\n",
       "      <td>NaN</td>\n",
       "      <td>NaN</td>\n",
       "      <td>NaN</td>\n",
       "    </tr>\n",
       "    <tr>\n",
       "      <th>6</th>\n",
       "      <td>node</td>\n",
       "      <td>70656485</td>\n",
       "      <td>47.491253</td>\n",
       "      <td>8.733981</td>\n",
       "      <td>NaN</td>\n",
       "      <td>supermarket</td>\n",
       "      <td>NaN</td>\n",
       "      <td>NaN</td>\n",
       "      <td>NaN</td>\n",
       "      <td>NaN</td>\n",
       "    </tr>\n",
       "    <tr>\n",
       "      <th>10</th>\n",
       "      <td>node</td>\n",
       "      <td>81321513</td>\n",
       "      <td>47.532917</td>\n",
       "      <td>9.066408</td>\n",
       "      <td>Landi</td>\n",
       "      <td>supermarket</td>\n",
       "      <td>NaN</td>\n",
       "      <td>NaN</td>\n",
       "      <td>NaN</td>\n",
       "      <td>NaN</td>\n",
       "    </tr>\n",
       "    <tr>\n",
       "      <th>13</th>\n",
       "      <td>node</td>\n",
       "      <td>95582038</td>\n",
       "      <td>47.050385</td>\n",
       "      <td>9.059214</td>\n",
       "      <td>NaN</td>\n",
       "      <td>supermarket</td>\n",
       "      <td>NaN</td>\n",
       "      <td>NaN</td>\n",
       "      <td>NaN</td>\n",
       "      <td>NaN</td>\n",
       "    </tr>\n",
       "    <tr>\n",
       "      <th>...</th>\n",
       "      <td>...</td>\n",
       "      <td>...</td>\n",
       "      <td>...</td>\n",
       "      <td>...</td>\n",
       "      <td>...</td>\n",
       "      <td>...</td>\n",
       "      <td>...</td>\n",
       "      <td>...</td>\n",
       "      <td>...</td>\n",
       "      <td>...</td>\n",
       "    </tr>\n",
       "    <tr>\n",
       "      <th>3384</th>\n",
       "      <td>node</td>\n",
       "      <td>11083317088</td>\n",
       "      <td>46.862184</td>\n",
       "      <td>9.531169</td>\n",
       "      <td>Lidl</td>\n",
       "      <td>supermarket</td>\n",
       "      <td>NaN</td>\n",
       "      <td>NaN</td>\n",
       "      <td>NaN</td>\n",
       "      <td>NaN</td>\n",
       "    </tr>\n",
       "    <tr>\n",
       "      <th>3386</th>\n",
       "      <td>node</td>\n",
       "      <td>11098091830</td>\n",
       "      <td>46.205111</td>\n",
       "      <td>6.130174</td>\n",
       "      <td>Coop</td>\n",
       "      <td>supermarket</td>\n",
       "      <td>NaN</td>\n",
       "      <td>NaN</td>\n",
       "      <td>NaN</td>\n",
       "      <td>NaN</td>\n",
       "    </tr>\n",
       "    <tr>\n",
       "      <th>3387</th>\n",
       "      <td>node</td>\n",
       "      <td>11099817248</td>\n",
       "      <td>46.928691</td>\n",
       "      <td>7.561873</td>\n",
       "      <td>NaN</td>\n",
       "      <td>supermarket</td>\n",
       "      <td>NaN</td>\n",
       "      <td>NaN</td>\n",
       "      <td>NaN</td>\n",
       "      <td>NaN</td>\n",
       "    </tr>\n",
       "    <tr>\n",
       "      <th>3388</th>\n",
       "      <td>node</td>\n",
       "      <td>11103235832</td>\n",
       "      <td>46.166742</td>\n",
       "      <td>8.771970</td>\n",
       "      <td>Migros</td>\n",
       "      <td>supermarket</td>\n",
       "      <td>NaN</td>\n",
       "      <td>NaN</td>\n",
       "      <td>NaN</td>\n",
       "      <td>NaN</td>\n",
       "    </tr>\n",
       "    <tr>\n",
       "      <th>3391</th>\n",
       "      <td>node</td>\n",
       "      <td>11129298207</td>\n",
       "      <td>47.537518</td>\n",
       "      <td>7.608581</td>\n",
       "      <td>Coop</td>\n",
       "      <td>supermarket</td>\n",
       "      <td>NaN</td>\n",
       "      <td>NaN</td>\n",
       "      <td>NaN</td>\n",
       "      <td>NaN</td>\n",
       "    </tr>\n",
       "  </tbody>\n",
       "</table>\n",
       "<p>1777 rows × 10 columns</p>\n",
       "</div>"
      ],
      "text/plain": [
       "      type           id        lat       lon   brand         shop city street  \\\n",
       "0     node     33126515  47.155616  9.037915    Spar  supermarket  NaN    NaN   \n",
       "5     node     60271452  47.406671  9.305450     NaN  supermarket  NaN    NaN   \n",
       "6     node     70656485  47.491253  8.733981     NaN  supermarket  NaN    NaN   \n",
       "10    node     81321513  47.532917  9.066408   Landi  supermarket  NaN    NaN   \n",
       "13    node     95582038  47.050385  9.059214     NaN  supermarket  NaN    NaN   \n",
       "...    ...          ...        ...       ...     ...          ...  ...    ...   \n",
       "3384  node  11083317088  46.862184  9.531169    Lidl  supermarket  NaN    NaN   \n",
       "3386  node  11098091830  46.205111  6.130174    Coop  supermarket  NaN    NaN   \n",
       "3387  node  11099817248  46.928691  7.561873     NaN  supermarket  NaN    NaN   \n",
       "3388  node  11103235832  46.166742  8.771970  Migros  supermarket  NaN    NaN   \n",
       "3391  node  11129298207  47.537518  7.608581    Coop  supermarket  NaN    NaN   \n",
       "\n",
       "     housenumber postcode  \n",
       "0            NaN      NaN  \n",
       "5            NaN      NaN  \n",
       "6            NaN      NaN  \n",
       "10           NaN      NaN  \n",
       "13           NaN      NaN  \n",
       "...          ...      ...  \n",
       "3384         NaN      NaN  \n",
       "3386         NaN      NaN  \n",
       "3387         NaN      NaN  \n",
       "3388         NaN      NaN  \n",
       "3391         NaN      NaN  \n",
       "\n",
       "[1777 rows x 10 columns]"
      ]
     },
     "execution_count": 6,
     "metadata": {},
     "output_type": "execute_result"
    }
   ],
   "source": [
    "# Count missing values\n",
    "print(pd.isna(df).sum())\n",
    "\n",
    "# Identify rows with missing values, e.g.:\n",
    "df.loc[pd.isna(df['city'])]"
   ]
  },
  {
   "cell_type": "markdown",
   "id": "240063a9",
   "metadata": {},
   "source": [
    "## Count and identify duplicated values (if any)"
   ]
  },
  {
   "cell_type": "code",
   "execution_count": 7,
   "id": "5329c099",
   "metadata": {},
   "outputs": [
    {
     "name": "stdout",
     "output_type": "stream",
     "text": [
      "0\n"
     ]
    },
    {
     "data": {
      "text/html": [
       "<div>\n",
       "<style scoped>\n",
       "    .dataframe tbody tr th:only-of-type {\n",
       "        vertical-align: middle;\n",
       "    }\n",
       "\n",
       "    .dataframe tbody tr th {\n",
       "        vertical-align: top;\n",
       "    }\n",
       "\n",
       "    .dataframe thead th {\n",
       "        text-align: right;\n",
       "    }\n",
       "</style>\n",
       "<table border=\"1\" class=\"dataframe\">\n",
       "  <thead>\n",
       "    <tr style=\"text-align: right;\">\n",
       "      <th></th>\n",
       "      <th>type</th>\n",
       "      <th>id</th>\n",
       "      <th>lat</th>\n",
       "      <th>lon</th>\n",
       "      <th>brand</th>\n",
       "      <th>shop</th>\n",
       "      <th>city</th>\n",
       "      <th>street</th>\n",
       "      <th>housenumber</th>\n",
       "      <th>postcode</th>\n",
       "    </tr>\n",
       "  </thead>\n",
       "  <tbody>\n",
       "  </tbody>\n",
       "</table>\n",
       "</div>"
      ],
      "text/plain": [
       "Empty DataFrame\n",
       "Columns: [type, id, lat, lon, brand, shop, city, street, housenumber, postcode]\n",
       "Index: []"
      ]
     },
     "execution_count": 7,
     "metadata": {},
     "output_type": "execute_result"
    }
   ],
   "source": [
    "# Count duplicated values\n",
    "print(df.duplicated().sum())\n",
    "\n",
    "# Identify rows with duplicated values, e.g.:\n",
    "df[df[['id']].duplicated()]"
   ]
  },
  {
   "cell_type": "markdown",
   "id": "ace6d22c",
   "metadata": {},
   "source": [
    "## Get data types of all variables"
   ]
  },
  {
   "cell_type": "code",
   "execution_count": 8,
   "id": "dd9244a5",
   "metadata": {},
   "outputs": [
    {
     "data": {
      "text/plain": [
       "type            object\n",
       "id               int64\n",
       "lat            float64\n",
       "lon            float64\n",
       "brand           object\n",
       "shop            object\n",
       "city            object\n",
       "street          object\n",
       "housenumber     object\n",
       "postcode        object\n",
       "dtype: object"
      ]
     },
     "execution_count": 8,
     "metadata": {},
     "output_type": "execute_result"
    }
   ],
   "source": [
    "# Get data types (note that in pandas, a string is referred to as 'object')\n",
    "df.dtypes"
   ]
  },
  {
   "cell_type": "markdown",
   "id": "afd4c286",
   "metadata": {},
   "source": [
    "# Additional filters on supermarkets"
   ]
  },
  {
   "cell_type": "code",
   "execution_count": 25,
   "id": "331791f7",
   "metadata": {},
   "outputs": [
    {
     "name": "stdout",
     "output_type": "stream",
     "text": [
      "Number of supermarkets in Zürich Coop: 37\n"
     ]
    }
   ],
   "source": [
    "#Aufgabe 3e\n",
    "df_filtered = df.loc[(df['brand'] == 'Coop') & (df['city'] == 'Zürich')]\n",
    "count_zurich_coop = df_filtered.shape[0]\n",
    "print('Number of supermarkets in Zürich Coop:', count_zurich_coop)"
   ]
  },
  {
   "cell_type": "code",
   "execution_count": 29,
   "id": "ea7fe924",
   "metadata": {},
   "outputs": [
    {
     "name": "stdout",
     "output_type": "stream",
     "text": [
      "Number of supermarkets in Zürich Migros: 30\n"
     ]
    },
    {
     "data": {
      "text/plain": [
       "<bound method NDFrame.head of       type          id        lat       lon   brand         shop    city  \\\n",
       "4     node    48932835  47.375020  8.522895  Migros  supermarket  Zürich   \n",
       "11    node    83330862  47.344749  8.529981  Migros  supermarket  Zürich   \n",
       "16    node   119249170  47.375255  8.536107  Migros  supermarket  Zürich   \n",
       "50    node   262400822  47.364072  8.530945  Migros  supermarket  Zürich   \n",
       "71    node   267346993  47.385598  8.531471  Migros  supermarket  Zürich   \n",
       "82    node   270958272  47.358367  8.554074  Migros  supermarket  Zürich   \n",
       "83    node   271028298  47.365678  8.548041  Migros  supermarket  Zürich   \n",
       "85    node   271029206  47.364596  8.553846  Migros  supermarket  Zürich   \n",
       "89    node   273942728  47.357610  8.571369  Migros  supermarket  Zürich   \n",
       "192   node   310133197  47.419522  8.548286  Migros  supermarket  Zürich   \n",
       "208   node   312838980  47.379200  8.508799  Migros  supermarket  Zürich   \n",
       "224   node   321361643  47.392553  8.538428  Migros  supermarket  Zürich   \n",
       "271   node   352860119  47.370122  8.520092  Migros  supermarket  Zürich   \n",
       "422   node   451720086  47.358060  8.517301  Migros  supermarket  Zürich   \n",
       "424   node   452715384  47.420420  8.508217  Migros  supermarket  Zürich   \n",
       "433   node   457133149  47.410571  8.543095  Migros  supermarket  Zürich   \n",
       "471   node   480274029  47.393708  8.529246  Migros  supermarket  Zürich   \n",
       "614   node   639144592  47.403796  8.573042  Migros  supermarket  Zürich   \n",
       "876   node   995471959  47.379385  8.559468  Migros  supermarket  Zürich   \n",
       "1057  node  1409406549  47.359209  8.585617  Migros  supermarket  Zürich   \n",
       "1210  node  1702309790  47.370241  8.508444  Migros  supermarket  Zürich   \n",
       "1279  node  1835590613  47.403852  8.497455  Migros  supermarket  Zürich   \n",
       "1482  node  2330421254  47.388283  8.487567  Migros  supermarket  Zürich   \n",
       "1882  node  3503429368  47.390106  8.508679  Migros  supermarket  Zürich   \n",
       "1943  node  3721143528  47.335994  8.519000  Migros  supermarket  Zürich   \n",
       "2176  node  4424654362  47.378290  8.540417  Migros  supermarket  Zürich   \n",
       "2178  node  4424939155  47.377032  8.539410  Migros  supermarket  Zürich   \n",
       "2290  node  4827130190  47.375203  8.485718  Migros  supermarket  Zürich   \n",
       "2292  node  4827131028  47.385993  8.548693  Migros  supermarket  Zürich   \n",
       "2671  node  6551162306  47.378395  8.535906  Migros  supermarket  Zürich   \n",
       "\n",
       "                    street housenumber postcode  \n",
       "4             Wengistrasse           7     8004  \n",
       "11            Etzelstrasse           3     8038  \n",
       "16            Löwenstrasse       31-35     8001  \n",
       "50           Tessinerplatz          10     8002  \n",
       "71           Limmatstrasse         152     8005  \n",
       "82          Seefeldstrasse     111-113     8008  \n",
       "83           Falkenstrasse       19-21     8008  \n",
       "85              Kreuzplatz          20     8032  \n",
       "89            Forchstrasse         260     8008  \n",
       "192    Schaffhauserstrasse         470     8052  \n",
       "208         Badenerstrasse         376     8004  \n",
       "224    Schaffhauserstrasse          75     8057  \n",
       "271   Birmensdorferstrasse         140     8003  \n",
       "422      Giesshübelstrasse          65     8045  \n",
       "424   Jonas-Furrer-Strasse          21     8046  \n",
       "433       Hofwiesenstrasse     350-354     8050  \n",
       "471        Scheffelstrasse           3     8037  \n",
       "614    Winterthurerstrasse         524     8051  \n",
       "876          Toblerstrasse          73     8044  \n",
       "1057      Witikonerstrasse         293     8053  \n",
       "1210  Birmensdorferstrasse         320     8055  \n",
       "1279   Regensdorferstrasse          20     8049  \n",
       "1482     Altstetterstrasse         145     8048  \n",
       "1882    Pfingstweidstrasse         101     8005  \n",
       "1943       Leimbachstrasse          23     8041  \n",
       "2176                   NaN         NaN     8001  \n",
       "2178                   NaN         NaN     8001  \n",
       "2290    Albisriederstrasse         363     8047  \n",
       "2292   Winterthurerstrasse         2-4     8006  \n",
       "2671                   NaN         NaN     8001  >"
      ]
     },
     "execution_count": 29,
     "metadata": {},
     "output_type": "execute_result"
    }
   ],
   "source": [
    "#Aufgabe 3f\n",
    "df_filtered_migros = df.loc[(df['brand'] == 'Migros') & (df['city'] == 'Zürich')]\n",
    "count_zurich = df_filtered_migros.shape[0]\n",
    "print('Number of supermarkets in Zürich Migros:', count_zurich)\n",
    "df_filtered_migros.head"
   ]
  },
  {
   "cell_type": "code",
   "execution_count": 31,
   "id": "8d3aa93b",
   "metadata": {},
   "outputs": [
    {
     "name": "stdout",
     "output_type": "stream",
     "text": [
      "Zuerich:  37\n",
      "Bern:  5\n",
      "Basel:  10\n",
      "Total:  52\n"
     ]
    }
   ],
   "source": [
    "#Aufgabe3g\n",
    "df_filtered = df.loc[(df['brand'] == 'Coop') & (df['city'] == 'Zürich')]\n",
    "zuerich_count = df_filtered.shape[0]\n",
    "print(\"Zuerich: \", zuerich_count)\n",
    " \n",
    " \n",
    "df_filtered = df.loc[(df['brand'] == 'Coop') & (df['city'] == 'Bern')]\n",
    "bern_count = df_filtered.shape[0]\n",
    "print(\"Bern: \", bern_count)\n",
    " \n",
    "df_filtered = df.loc[(df['brand'] == 'Coop') & (df['city'] == 'Basel')]\n",
    "basel_count = df_filtered.shape[0]\n",
    "print(\"Basel: \", basel_count)\n",
    "\n",
    "print(\"Total: \", zuerich_count + bern_count + basel_count)"
   ]
  },
  {
   "cell_type": "code",
   "execution_count": 33,
   "id": "b5db3f57",
   "metadata": {},
   "outputs": [
    {
     "data": {
      "text/html": [
       "<div>\n",
       "<style scoped>\n",
       "    .dataframe tbody tr th:only-of-type {\n",
       "        vertical-align: middle;\n",
       "    }\n",
       "\n",
       "    .dataframe tbody tr th {\n",
       "        vertical-align: top;\n",
       "    }\n",
       "\n",
       "    .dataframe thead th {\n",
       "        text-align: right;\n",
       "    }\n",
       "</style>\n",
       "<table border=\"1\" class=\"dataframe\">\n",
       "  <thead>\n",
       "    <tr style=\"text-align: right;\">\n",
       "      <th></th>\n",
       "      <th>brand</th>\n",
       "      <th>city</th>\n",
       "      <th>street</th>\n",
       "      <th>housenumber</th>\n",
       "      <th>postcode</th>\n",
       "    </tr>\n",
       "  </thead>\n",
       "  <tbody>\n",
       "    <tr>\n",
       "      <th>3</th>\n",
       "      <td>Coop</td>\n",
       "      <td>Zürich</td>\n",
       "      <td>Bahnhofbrücke</td>\n",
       "      <td>1</td>\n",
       "      <td>8001</td>\n",
       "    </tr>\n",
       "    <tr>\n",
       "      <th>9</th>\n",
       "      <td>Coop</td>\n",
       "      <td>Zürich</td>\n",
       "      <td>Alte Kalchbühlstrasse</td>\n",
       "      <td>15</td>\n",
       "      <td>8038</td>\n",
       "    </tr>\n",
       "    <tr>\n",
       "      <th>59</th>\n",
       "      <td>Coop</td>\n",
       "      <td>Zürich</td>\n",
       "      <td>Zürichbergstrasse</td>\n",
       "      <td>75</td>\n",
       "      <td>8044</td>\n",
       "    </tr>\n",
       "    <tr>\n",
       "      <th>63</th>\n",
       "      <td>Coop</td>\n",
       "      <td>Zürich</td>\n",
       "      <td>Badenerstrasse</td>\n",
       "      <td>333</td>\n",
       "      <td>8003</td>\n",
       "    </tr>\n",
       "    <tr>\n",
       "      <th>70</th>\n",
       "      <td>Coop</td>\n",
       "      <td>Zürich</td>\n",
       "      <td>Maagplatz</td>\n",
       "      <td>1</td>\n",
       "      <td>8005</td>\n",
       "    </tr>\n",
       "  </tbody>\n",
       "</table>\n",
       "</div>"
      ],
      "text/plain": [
       "   brand    city                 street housenumber postcode\n",
       "3   Coop  Zürich          Bahnhofbrücke           1     8001\n",
       "9   Coop  Zürich  Alte Kalchbühlstrasse          15     8038\n",
       "59  Coop  Zürich      Zürichbergstrasse          75     8044\n",
       "63  Coop  Zürich         Badenerstrasse         333     8003\n",
       "70  Coop  Zürich              Maagplatz           1     8005"
      ]
     },
     "execution_count": 33,
     "metadata": {},
     "output_type": "execute_result"
    }
   ],
   "source": [
    "#Aufgabe 3h\n",
    "df_filtered1 = df.loc[(df['brand'] == 'Coop') & (df['city'] == 'Zürich')]\n",
    "df_table = df_filtered1[['brand', 'city', 'street', 'housenumber', 'postcode']]\n",
    "df_table.head()"
   ]
  },
  {
   "cell_type": "code",
   "execution_count": 47,
   "id": "2a487eea",
   "metadata": {},
   "outputs": [
    {
     "ename": "KeyError",
     "evalue": "\"['opening_hours'] not in index\"",
     "output_type": "error",
     "traceback": [
      "\u001b[0;31m---------------------------------------------------------------------------\u001b[0m",
      "\u001b[0;31mKeyError\u001b[0m                                  Traceback (most recent call last)",
      "Cell \u001b[0;32mIn[47], line 3\u001b[0m\n\u001b[1;32m      1\u001b[0m \u001b[38;5;66;03m# Aufgabe 3i\u001b[39;00m\n\u001b[1;32m      2\u001b[0m df_filtered1 \u001b[38;5;241m=\u001b[39m df\u001b[38;5;241m.\u001b[39mloc[(df[\u001b[38;5;124m'\u001b[39m\u001b[38;5;124mbrand\u001b[39m\u001b[38;5;124m'\u001b[39m] \u001b[38;5;241m==\u001b[39m \u001b[38;5;124m'\u001b[39m\u001b[38;5;124mCoop\u001b[39m\u001b[38;5;124m'\u001b[39m) \u001b[38;5;241m&\u001b[39m (df[\u001b[38;5;124m'\u001b[39m\u001b[38;5;124mcity\u001b[39m\u001b[38;5;124m'\u001b[39m] \u001b[38;5;241m==\u001b[39m \u001b[38;5;124m'\u001b[39m\u001b[38;5;124mZürich\u001b[39m\u001b[38;5;124m'\u001b[39m)]\n\u001b[0;32m----> 3\u001b[0m df_table \u001b[38;5;241m=\u001b[39m \u001b[43mdf_filtered1\u001b[49m\u001b[43m[\u001b[49m\u001b[43m[\u001b[49m\u001b[38;5;124;43m'\u001b[39;49m\u001b[38;5;124;43mbrand\u001b[39;49m\u001b[38;5;124;43m'\u001b[39;49m\u001b[43m,\u001b[49m\u001b[43m \u001b[49m\u001b[38;5;124;43m'\u001b[39;49m\u001b[38;5;124;43mcity\u001b[39;49m\u001b[38;5;124;43m'\u001b[39;49m\u001b[43m,\u001b[49m\u001b[43m \u001b[49m\u001b[38;5;124;43m'\u001b[39;49m\u001b[38;5;124;43mstreet\u001b[39;49m\u001b[38;5;124;43m'\u001b[39;49m\u001b[43m,\u001b[49m\u001b[43m \u001b[49m\u001b[38;5;124;43m'\u001b[39;49m\u001b[38;5;124;43mhousenumber\u001b[39;49m\u001b[38;5;124;43m'\u001b[39;49m\u001b[43m,\u001b[49m\u001b[43m \u001b[49m\u001b[38;5;124;43m'\u001b[39;49m\u001b[38;5;124;43mpostcode\u001b[39;49m\u001b[38;5;124;43m'\u001b[39;49m\u001b[43m,\u001b[49m\u001b[43m \u001b[49m\u001b[38;5;124;43m'\u001b[39;49m\u001b[38;5;124;43mopening_hours\u001b[39;49m\u001b[38;5;124;43m'\u001b[39;49m\u001b[43m]\u001b[49m\u001b[43m]\u001b[49m\n\u001b[1;32m      4\u001b[0m \u001b[38;5;28mprint\u001b[39m(df_table\u001b[38;5;241m.\u001b[39mhead())\n\u001b[1;32m      6\u001b[0m \u001b[38;5;66;03m# Überprüfen, ob der DataFrame korrekt erstellt wurde\u001b[39;00m\n",
      "File \u001b[0;32m~/.local/lib/python3.11/site-packages/pandas/core/frame.py:4108\u001b[0m, in \u001b[0;36mDataFrame.__getitem__\u001b[0;34m(self, key)\u001b[0m\n\u001b[1;32m   4106\u001b[0m     \u001b[38;5;28;01mif\u001b[39;00m is_iterator(key):\n\u001b[1;32m   4107\u001b[0m         key \u001b[38;5;241m=\u001b[39m \u001b[38;5;28mlist\u001b[39m(key)\n\u001b[0;32m-> 4108\u001b[0m     indexer \u001b[38;5;241m=\u001b[39m \u001b[38;5;28;43mself\u001b[39;49m\u001b[38;5;241;43m.\u001b[39;49m\u001b[43mcolumns\u001b[49m\u001b[38;5;241;43m.\u001b[39;49m\u001b[43m_get_indexer_strict\u001b[49m\u001b[43m(\u001b[49m\u001b[43mkey\u001b[49m\u001b[43m,\u001b[49m\u001b[43m \u001b[49m\u001b[38;5;124;43m\"\u001b[39;49m\u001b[38;5;124;43mcolumns\u001b[39;49m\u001b[38;5;124;43m\"\u001b[39;49m\u001b[43m)\u001b[49m[\u001b[38;5;241m1\u001b[39m]\n\u001b[1;32m   4110\u001b[0m \u001b[38;5;66;03m# take() does not accept boolean indexers\u001b[39;00m\n\u001b[1;32m   4111\u001b[0m \u001b[38;5;28;01mif\u001b[39;00m \u001b[38;5;28mgetattr\u001b[39m(indexer, \u001b[38;5;124m\"\u001b[39m\u001b[38;5;124mdtype\u001b[39m\u001b[38;5;124m\"\u001b[39m, \u001b[38;5;28;01mNone\u001b[39;00m) \u001b[38;5;241m==\u001b[39m \u001b[38;5;28mbool\u001b[39m:\n",
      "File \u001b[0;32m~/.local/lib/python3.11/site-packages/pandas/core/indexes/base.py:6200\u001b[0m, in \u001b[0;36mIndex._get_indexer_strict\u001b[0;34m(self, key, axis_name)\u001b[0m\n\u001b[1;32m   6197\u001b[0m \u001b[38;5;28;01melse\u001b[39;00m:\n\u001b[1;32m   6198\u001b[0m     keyarr, indexer, new_indexer \u001b[38;5;241m=\u001b[39m \u001b[38;5;28mself\u001b[39m\u001b[38;5;241m.\u001b[39m_reindex_non_unique(keyarr)\n\u001b[0;32m-> 6200\u001b[0m \u001b[38;5;28;43mself\u001b[39;49m\u001b[38;5;241;43m.\u001b[39;49m\u001b[43m_raise_if_missing\u001b[49m\u001b[43m(\u001b[49m\u001b[43mkeyarr\u001b[49m\u001b[43m,\u001b[49m\u001b[43m \u001b[49m\u001b[43mindexer\u001b[49m\u001b[43m,\u001b[49m\u001b[43m \u001b[49m\u001b[43maxis_name\u001b[49m\u001b[43m)\u001b[49m\n\u001b[1;32m   6202\u001b[0m keyarr \u001b[38;5;241m=\u001b[39m \u001b[38;5;28mself\u001b[39m\u001b[38;5;241m.\u001b[39mtake(indexer)\n\u001b[1;32m   6203\u001b[0m \u001b[38;5;28;01mif\u001b[39;00m \u001b[38;5;28misinstance\u001b[39m(key, Index):\n\u001b[1;32m   6204\u001b[0m     \u001b[38;5;66;03m# GH 42790 - Preserve name from an Index\u001b[39;00m\n",
      "File \u001b[0;32m~/.local/lib/python3.11/site-packages/pandas/core/indexes/base.py:6252\u001b[0m, in \u001b[0;36mIndex._raise_if_missing\u001b[0;34m(self, key, indexer, axis_name)\u001b[0m\n\u001b[1;32m   6249\u001b[0m     \u001b[38;5;28;01mraise\u001b[39;00m \u001b[38;5;167;01mKeyError\u001b[39;00m(\u001b[38;5;124mf\u001b[39m\u001b[38;5;124m\"\u001b[39m\u001b[38;5;124mNone of [\u001b[39m\u001b[38;5;132;01m{\u001b[39;00mkey\u001b[38;5;132;01m}\u001b[39;00m\u001b[38;5;124m] are in the [\u001b[39m\u001b[38;5;132;01m{\u001b[39;00maxis_name\u001b[38;5;132;01m}\u001b[39;00m\u001b[38;5;124m]\u001b[39m\u001b[38;5;124m\"\u001b[39m)\n\u001b[1;32m   6251\u001b[0m not_found \u001b[38;5;241m=\u001b[39m \u001b[38;5;28mlist\u001b[39m(ensure_index(key)[missing_mask\u001b[38;5;241m.\u001b[39mnonzero()[\u001b[38;5;241m0\u001b[39m]]\u001b[38;5;241m.\u001b[39munique())\n\u001b[0;32m-> 6252\u001b[0m \u001b[38;5;28;01mraise\u001b[39;00m \u001b[38;5;167;01mKeyError\u001b[39;00m(\u001b[38;5;124mf\u001b[39m\u001b[38;5;124m\"\u001b[39m\u001b[38;5;132;01m{\u001b[39;00mnot_found\u001b[38;5;132;01m}\u001b[39;00m\u001b[38;5;124m not in index\u001b[39m\u001b[38;5;124m\"\u001b[39m)\n",
      "\u001b[0;31mKeyError\u001b[0m: \"['opening_hours'] not in index\""
     ]
    }
   ],
   "source": [
    "# Aufgabe 3i\n",
    "df_filtered1 = df.loc[(df['brand'] == 'Coop') & (df['city'] == 'Zürich')]\n",
    "df_table = df_filtered1[['brand', 'city', 'street', 'housenumber', 'postcode', 'opening_hours']]\n",
    "print(df_table.head())\n",
    "\n",
    "# Überprüfen, ob der DataFrame korrekt erstellt wurde\n",
    "if not df_table.empty:\n",
    "    print(\"DataFrame erfolgreich erstellt.\")\n",
    "else:\n",
    "    print(\"Fehler: Der DataFrame ist leer.\")"
   ]
  },
  {
   "cell_type": "markdown",
   "id": "165f8f9f",
   "metadata": {},
   "source": [
    "### Save data to file"
   ]
  },
  {
   "cell_type": "code",
   "execution_count": 9,
   "id": "3c2773d3",
   "metadata": {},
   "outputs": [],
   "source": [
    "df.to_csv('supermarkets_data_prepared.csv', \n",
    "          sep=\",\", \n",
    "          encoding='utf-8',\n",
    "          index=False)"
   ]
  },
  {
   "cell_type": "markdown",
   "id": "86257783",
   "metadata": {},
   "source": [
    "### Jupyter notebook --footer info-- (please always provide this at the end of each submitted notebook)"
   ]
  },
  {
   "cell_type": "code",
   "execution_count": 10,
   "id": "7f5bf8aa",
   "metadata": {},
   "outputs": [
    {
     "name": "stdout",
     "output_type": "stream",
     "text": [
      "-----------------------------------\n",
      "POSIX\n",
      "Linux | 6.8.0-1014-azure\n",
      "Datetime: 2024-09-27 08:29:46\n",
      "Python Version: 3.11.10\n",
      "-----------------------------------\n"
     ]
    }
   ],
   "source": [
    "import os\n",
    "import platform\n",
    "import socket\n",
    "from platform import python_version\n",
    "from datetime import datetime\n",
    "\n",
    "print('-----------------------------------')\n",
    "print(os.name.upper())\n",
    "print(platform.system(), '|', platform.release())\n",
    "print('Datetime:', datetime.now().strftime(\"%Y-%m-%d %H:%M:%S\"))\n",
    "print('Python Version:', python_version())\n",
    "print('-----------------------------------')"
   ]
  }
 ],
 "metadata": {
  "kernelspec": {
   "display_name": "Python 3 (ipykernel)",
   "language": "python",
   "name": "python3"
  },
  "language_info": {
   "codemirror_mode": {
    "name": "ipython",
    "version": 3
   },
   "file_extension": ".py",
   "mimetype": "text/x-python",
   "name": "python",
   "nbconvert_exporter": "python",
   "pygments_lexer": "ipython3",
   "version": "3.11.10"
  }
 },
 "nbformat": 4,
 "nbformat_minor": 5
}
